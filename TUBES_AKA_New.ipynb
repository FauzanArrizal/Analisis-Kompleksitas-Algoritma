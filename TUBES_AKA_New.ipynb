{
  "nbformat": 4,
  "nbformat_minor": 0,
  "metadata": {
    "colab": {
      "provenance": [],
      "authorship_tag": "ABX9TyMfGTxwtrYWfSn7lpmyA//h",
      "include_colab_link": true
    },
    "kernelspec": {
      "name": "python3",
      "display_name": "Python 3"
    },
    "language_info": {
      "name": "python"
    }
  },
  "cells": [
    {
      "cell_type": "markdown",
      "metadata": {
        "id": "view-in-github",
        "colab_type": "text"
      },
      "source": [
        "<a href=\"https://colab.research.google.com/github/FauzanArrizal/Analisis-Kompleksitas-Algoritma/blob/main/TUBES_AKA_New.ipynb\" target=\"_parent\"><img src=\"https://colab.research.google.com/assets/colab-badge.svg\" alt=\"Open In Colab\"/></a>"
      ]
    },
    {
      "cell_type": "markdown",
      "source": [
        "**NAMA KELOMPOK**\n",
        "\n",
        "- Arif Mulya (2311110017)\n",
        "- Fauzan Arrizal (2311110021)"
      ],
      "metadata": {
        "id": "3ifJ6oksiZmE"
      }
    },
    {
      "cell_type": "code",
      "execution_count": null,
      "metadata": {
        "id": "_F1gQTW_9t0q"
      },
      "outputs": [],
      "source": [
        "# Library\n",
        "import pandas as pd\n",
        "import time\n",
        "import matplotlib.pyplot as plt\n",
        "from prettytable import PrettyTable"
      ]
    },
    {
      "cell_type": "code",
      "source": [
        "# Implementasi QuickSort - versi rekursif\n",
        "def quicksort_recursive(arr, key='Age'):\n",
        "    if len(arr) <= 1:\n",
        "        return arr\n",
        "    else:\n",
        "        pivot = arr.iloc[0][key]\n",
        "        left = pd.DataFrame(columns=arr.columns)\n",
        "        right = pd.DataFrame(columns=arr.columns)\n",
        "\n",
        "        # Pisahkan data yang lebih kecil ke kiri, yang lebih besar ke kanan\n",
        "        for i in range(1, len(arr)):\n",
        "            if arr.iloc[i][key] <= pivot:\n",
        "                left = pd.concat([left, arr.iloc[[i]]])\n",
        "            else:\n",
        "                right = pd.concat([right, arr.iloc[[i]]])\n",
        "\n",
        "        # Gabungkan lagi datanya secara rekursif\n",
        "        return pd.concat([quicksort_recursive(left, key),\n",
        "                         arr.iloc[[0]],\n",
        "                         quicksort_recursive(right, key)])"
      ],
      "metadata": {
        "id": "ll1I2K8mIXPl"
      },
      "execution_count": null,
      "outputs": []
    },
    {
      "cell_type": "code",
      "source": [
        "# Implementasi ShellSort - versi iteratif\n",
        "def shellsort_iterative(arr, key='Age'):\n",
        "    df = arr.copy()\n",
        "    n = len(df)\n",
        "    gap = n // 2\n",
        "\n",
        "    while gap > 0:\n",
        "      # Mengurutkan menggunakan interval gap\n",
        "        for i in range(gap, n):\n",
        "            temp = df.iloc[i].copy()\n",
        "            j = i\n",
        "\n",
        "            # Menggeser hingga posisi tepat\n",
        "            while j >= gap and df.iloc[j - gap][key] > temp[key]:\n",
        "                df.iloc[j] = df.iloc[j - gap]\n",
        "                j -= gap\n",
        "\n",
        "            df.iloc[j] = temp\n",
        "        gap //= 2\n",
        "\n",
        "    return df"
      ],
      "metadata": {
        "id": "opa9M7lyI4UO"
      },
      "execution_count": null,
      "outputs": []
    },
    {
      "cell_type": "code",
      "source": [
        "# Kelas buat nganalisis performa algoritma\n",
        "class AlgorithmAnalyzer:\n",
        "    def __init__(self):\n",
        "        self.sizes = []\n",
        "        self.quicksort_times = []\n",
        "        self.shellsort_times = []\n",
        "\n",
        "    def analyze_algorithms(self, df, max_size=1000, step=100):\n",
        "        for size in range(step, min(len(df), max_size) + 1, step):\n",
        "            sample_data = df.sample(n=size)\n",
        "\n",
        "            start_time = time.time()\n",
        "            quicksort_recursive(sample_data)\n",
        "            quicksort_time = time.time() - start_time\n",
        "\n",
        "            start_time = time.time()\n",
        "            shellsort_iterative(sample_data)\n",
        "            shellsort_time = time.time() - start_time\n",
        "\n",
        "            self.sizes.append(size)\n",
        "            self.quicksort_times.append(quicksort_time)\n",
        "            self.shellsort_times.append(shellsort_time)\n",
        "\n",
        "    def plot_results(self):\n",
        "        plt.figure(figsize=(12, 6))\n",
        "        plt.plot(self.sizes, self.quicksort_times, 'b-o', label='QuickSort (Rekursif)')\n",
        "        plt.plot(self.sizes, self.shellsort_times, 'r-o', label='ShellSort (Iteratif)')\n",
        "        plt.title('Perbandingan Kecepatan: QuickSort vs ShellSort')\n",
        "        plt.xlabel('Ukuran Input (n)')\n",
        "        plt.ylabel('Waktu Eksekusi (detik)')\n",
        "        plt.legend()\n",
        "        plt.grid(True)\n",
        "        plt.show()\n",
        "\n",
        "    def print_statistics(self):\n",
        "        table = PrettyTable()\n",
        "        table.field_names = [\"Ukuran Input\", \"Waktu QuickSort (dtk)\", \"Waktu ShellSort (dtk)\"]\n",
        "\n",
        "        for i in range(len(self.sizes)):\n",
        "            table.add_row([\n",
        "                self.sizes[i],\n",
        "                f\"{self.quicksort_times[i]:.6f}\",\n",
        "                f\"{self.shellsort_times[i]:.6f}\"\n",
        "            ])\n",
        "\n",
        "        print(\"\\nHasil Perbandingan Algoritma:\")\n",
        "        print(table)\n",
        "\n",
        "        avg_quicksort = sum(self.quicksort_times) / len(self.quicksort_times)\n",
        "        avg_shellsort = sum(self.shellsort_times) / len(self.shellsort_times)\n",
        "\n",
        "        print(f\"\\nRata-rata Waktu Eksekusi:\")\n",
        "        print(f\"QuickSort: {avg_quicksort:.6f} detik\")\n",
        "        print(f\"ShellSort: {avg_shellsort:.6f} detik\")\n",
        "        print(f\"Selisih Waktu: {abs(avg_quicksort - avg_shellsort):.6f} detik\")"
      ],
      "metadata": {
        "id": "yEAdCi0eJP8s"
      },
      "execution_count": null,
      "outputs": []
    },
    {
      "cell_type": "code",
      "source": [
        "# Fungsi untuk analisis data yang sudah diurutkan\n",
        "def analyze_sorted_data(df):\n",
        "    country_col = 'Country'\n",
        "    sex_col = 'Sex' if 'Sex' in df.columns else 'Gender'\n",
        "\n",
        "    stats = {\n",
        "        'Total Penumpang': len(df),\n",
        "        'Rata-rata Usia': df['Age'].mean(),\n",
        "        'Median Usia': df['Age'].median(),\n",
        "        'Rentang Usia': f\"{df['Age'].min()} - {df['Age'].max()}\",\n",
        "        'Distribusi Negara': df[country_col].value_counts().to_dict(),\n",
        "        'Distribusi Gender': df[sex_col].value_counts().to_dict(),\n",
        "        'Distribusi Kategori': df['Category'].value_counts().to_dict()\n",
        "    }\n",
        "\n",
        "    if 'Survived' in df.columns:\n",
        "        stats['Distribusi Survived'] = df['Survived'].value_counts().to_dict()\n",
        "\n",
        "    return stats"
      ],
      "metadata": {
        "id": "nNiYiJy5MFb3"
      },
      "execution_count": null,
      "outputs": []
    },
    {
      "cell_type": "code",
      "source": [
        "# Print hasil analisis data\n",
        "def print_analysis_results(stats):\n",
        "    print(\"\\nHasil Analisis Data:\")\n",
        "    print(\"-\" * 50)\n",
        "    print(f\"Total Penumpang: {stats['Total Penumpang']}\")\n",
        "    print(f\"Rata-rata Usia: {stats['Rata-rata Usia']:.2f}\")\n",
        "    print(f\"Median Usia: {stats['Median Usia']}\")\n",
        "    print(f\"Rentang Usia: {stats['Rentang Usia']}\")\n",
        "\n",
        "    print(\"\\nDistribusi Negara Asal:\")\n",
        "    for country, count in stats['Distribusi Negara'].items():\n",
        "        print(f\"  {country}: {count}\")\n",
        "\n",
        "    print(\"\\nDistribusi Gender:\")\n",
        "    for gender, count in stats['Distribusi Gender'].items():\n",
        "        print(f\"  {gender}: {count}\")\n",
        "\n",
        "    print(\"\\nDistribusi Kategori:\")\n",
        "    for category, count in stats['Distribusi Kategori'].items():\n",
        "        print(f\"  {category}: {count}\")\n",
        "\n",
        "    if 'Distribusi Survived' in stats:\n",
        "        print(\"\\nDistribusi Survived:\")\n",
        "        for status, count in stats['Distribusi Survived'].items():\n",
        "            label = \"Tidak Selamat\" if status == 0 else \"Selamat\"\n",
        "            print(f\"  {label} ({status}): {count}\")"
      ],
      "metadata": {
        "id": "PmK44pqfMPPD"
      },
      "execution_count": null,
      "outputs": []
    },
    {
      "cell_type": "code",
      "source": [
        "def main():\n",
        "    filename = \"estonia-passenger-list.csv\"\n",
        "\n",
        "    try:\n",
        "        # Memuat dataset\n",
        "        print(f\"Memuat dataset dari file '{filename}'...\")\n",
        "        df = pd.read_csv(filename)\n",
        "        print(\"Dataset berhasil dimuat.\")\n",
        "\n",
        "        # Inisialisasi analyzer\n",
        "        analyzer = AlgorithmAnalyzer()\n",
        "\n",
        "        # Analisis performa algoritma\n",
        "        analyzer.analyze_algorithms(df)\n",
        "\n",
        "        # Menampilkan hasil analisis algoritma\n",
        "        analyzer.plot_results()\n",
        "        analyzer.print_statistics()\n",
        "\n",
        "        # Mengurutkan data menggunakan ShellSort\n",
        "        sorted_df = shellsort_iterative(df)\n",
        "\n",
        "        # Analisis data yang sudah diurutkan\n",
        "        stats = analyze_sorted_data(sorted_df)\n",
        "\n",
        "        # Menampilkan hasil analisis data\n",
        "        print(\"\\nHasil analisis data yang sudah diurutkan:\")\n",
        "        print_analysis_results(stats)\n",
        "\n",
        "    except FileNotFoundError:\n",
        "        print(\"Pastikan file tersedia\")\n",
        "    except ValueError as ve:\n",
        "        print(f\"Kesalahan data {ve}\")\n",
        "    except Exception as e:\n",
        "        print(f\"Kesalahan tidak terduga {e}\")\n",
        "\n",
        "if __name__ == \"__main__\":\n",
        "    main()"
      ],
      "metadata": {
        "colab": {
          "base_uri": "https://localhost:8080/",
          "height": 1000
        },
        "id": "QFCFYi-fMX77",
        "outputId": "4c4db150-e189-4f70-fae5-71ba6400b466"
      },
      "execution_count": null,
      "outputs": [
        {
          "output_type": "stream",
          "name": "stdout",
          "text": [
            "Memuat dataset dari file 'estonia-passenger-list.csv'...\n",
            "Dataset berhasil dimuat.\n"
          ]
        },
        {
          "output_type": "display_data",
          "data": {
            "text/plain": [
              "<Figure size 1200x600 with 1 Axes>"
            ],
            "image/png": "[encoded data removed]"
          },
          "metadata": {}
        },
        {
          "output_type": "stream",
          "name": "stdout",
          "text": [
            "\n",
            "Hasil Perbandingan Algoritma:\n",
            "+--------------+-----------------------+-----------------------+\n",
            "| Ukuran Input | Waktu QuickSort (dtk) | Waktu ShellSort (dtk) |\n",
            "+--------------+-----------------------+-----------------------+\n",
            "|     100      |        0.662090       |        1.454463       |\n",
            "|     200      |        1.650453       |        3.369712       |\n",
            "|     300      |        3.101627       |        4.757452       |\n",
            "|     400      |        3.561678       |        8.387755       |\n",
            "|     500      |        4.399539       |        9.949666       |\n",
            "|     600      |        6.474881       |       11.628078       |\n",
            "|     700      |        8.627589       |       14.014996       |\n",
            "|     800      |        9.901505       |       18.537930       |\n",
            "|     900      |       11.964278       |       24.001508       |\n",
            "+--------------+-----------------------+-----------------------+\n",
            "\n",
            "Rata-rata Waktu Eksekusi:\n",
            "QuickSort: 5.593738 detik\n",
            "ShellSort: 10.677951 detik\n",
            "Selisih Waktu: 5.084213 detik\n",
            "\n",
            "Hasil analisis data yang sudah diurutkan:\n",
            "\n",
            "Hasil Analisis Data:\n",
            "--------------------------------------------------\n",
            "Total Penumpang: 989\n",
            "Rata-rata Usia: 44.58\n",
            "Median Usia: 44.0\n",
            "Rentang Usia: 0 - 87\n",
            "\n",
            "Distribusi Negara Asal:\n",
            "  Sweden: 550\n",
            "  Estonia: 344\n",
            "  Latvia: 28\n",
            "  Finland: 16\n",
            "  Russia: 14\n",
            "  Norway: 9\n",
            "  Germany: 8\n",
            "  Denmark: 6\n",
            "  Lithuania: 4\n",
            "  Netherlands: 2\n",
            "  Morocco: 2\n",
            "  Great Britain: 2\n",
            "  Belarus: 1\n",
            "  France: 1\n",
            "  Nigeria: 1\n",
            "  Canada: 1\n",
            "\n",
            "Distribusi Gender:\n",
            "  M: 503\n",
            "  F: 486\n",
            "\n",
            "Distribusi Kategori:\n",
            "  P: 796\n",
            "  C: 193\n",
            "\n",
            "Distribusi Survived:\n",
            "  Tidak Selamat (0): 852\n",
            "  Selamat (1): 137\n"
          ]
        }
      ]
    },
    {
      "cell_type": "code",
      "source": [],
      "metadata": {
        "id": "u-qjajiXVghd"
      },
      "execution_count": null,
      "outputs": []
    }
  ]
}